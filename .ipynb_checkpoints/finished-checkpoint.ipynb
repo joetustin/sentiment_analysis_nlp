{
 "cells": [
  {
   "cell_type": "code",
   "execution_count": 43,
   "metadata": {},
   "outputs": [],
   "source": [
    "import numpy as np\n",
    "import pandas as pd\n",
    "from collections import Counter, defaultdict\n",
    "from sklearn.model_selection import GridSearchCV\n",
    "\n",
    "from sklearn.utils import shuffle\n",
    "from sklearn.metrics import confusion_matrix\n"
   ]
  },
  {
   "cell_type": "code",
   "execution_count": 90,
   "metadata": {},
   "outputs": [],
   "source": [
    "from sklearn.feature_extraction.text import CountVectorizer, TfidfTransformer\n",
    "from sklearn.feature_extraction.text import TfidfVectorizer\n",
    "\n",
    "import re\n",
    "\n",
    "import matplotlib.pyplot as plt\n",
    "import matplotlib\n",
    "%matplotlib inline\n",
    "matplotlib.style.use(\"ggplot\")\n",
    "import seaborn as sns\n",
    "sns.set(style=\"darkgrid\")\n",
    "sns.set(font_scale=1.3)\n",
    "from os import path\n",
    "#from PIL import image\n",
    "from wordcloud import WordCloud, STOPWORDS, ImageColorGenerator\n",
    "\n",
    "from nltk.tokenize import word_tokenize, wordpunct_tokenize, RegexpTokenizer\n",
    "\n",
    "from nltk.corpus import stopwords\n",
    "from nltk.tokenize import word_tokenize\n",
    "from nltk.stem.porter import PorterStemmer\n",
    "from nltk.stem.snowball import SnowballStemmer\n",
    "from nltk.stem.wordnet import WordNetLemmatizer\n",
    "\n",
    "from sklearn.naive_bayes import MultinomialNB\n",
    "from sklearn import metrics\n",
    "from sklearn.ensemble import RandomForestClassifier\n",
    "from sklearn.linear_model import LogisticRegression"
   ]
  },
  {
   "cell_type": "code",
   "execution_count": 45,
   "metadata": {},
   "outputs": [
    {
     "data": {
      "text/html": [
       "<div>\n",
       "<style scoped>\n",
       "    .dataframe tbody tr th:only-of-type {\n",
       "        vertical-align: middle;\n",
       "    }\n",
       "\n",
       "    .dataframe tbody tr th {\n",
       "        vertical-align: top;\n",
       "    }\n",
       "\n",
       "    .dataframe thead th {\n",
       "        text-align: right;\n",
       "    }\n",
       "</style>\n",
       "<table border=\"1\" class=\"dataframe\">\n",
       "  <thead>\n",
       "    <tr style=\"text-align: right;\">\n",
       "      <th></th>\n",
       "      <th>Freshness</th>\n",
       "      <th>Review</th>\n",
       "    </tr>\n",
       "  </thead>\n",
       "  <tbody>\n",
       "    <tr>\n",
       "      <th>0</th>\n",
       "      <td>1</td>\n",
       "      <td>Manakamana doesn't answer any questions, yet ...</td>\n",
       "    </tr>\n",
       "    <tr>\n",
       "      <th>1</th>\n",
       "      <td>1</td>\n",
       "      <td>Wilfully offensive and powered by a chest-thu...</td>\n",
       "    </tr>\n",
       "    <tr>\n",
       "      <th>2</th>\n",
       "      <td>0</td>\n",
       "      <td>It would be difficult to imagine material mor...</td>\n",
       "    </tr>\n",
       "    <tr>\n",
       "      <th>3</th>\n",
       "      <td>0</td>\n",
       "      <td>Despite the gusto its star brings to the role...</td>\n",
       "    </tr>\n",
       "    <tr>\n",
       "      <th>4</th>\n",
       "      <td>0</td>\n",
       "      <td>If there was a good idea at the core of this ...</td>\n",
       "    </tr>\n",
       "  </tbody>\n",
       "</table>\n",
       "</div>"
      ],
      "text/plain": [
       "   Freshness                                             Review\n",
       "0          1   Manakamana doesn't answer any questions, yet ...\n",
       "1          1   Wilfully offensive and powered by a chest-thu...\n",
       "2          0   It would be difficult to imagine material mor...\n",
       "3          0   Despite the gusto its star brings to the role...\n",
       "4          0   If there was a good idea at the core of this ..."
      ]
     },
     "execution_count": 45,
     "metadata": {},
     "output_type": "execute_result"
    }
   ],
   "source": [
    "#import data set as dataframe and use smaller subset\n",
    "#for simple modeling purposes\n",
    "df=pd.read_csv(\"data/rotten_tomatoes_reviews.csv\")\n",
    "df_quick = df[:20000]\n",
    "df_holdout = df[400000:]\n",
    "df_quick.head()"
   ]
  },
  {
   "cell_type": "code",
   "execution_count": 46,
   "metadata": {},
   "outputs": [],
   "source": [
    "def cleaned_dframe(df, col_name = None):\n",
    "    \"\"\"Purpose: Take in a text based Dataframe and return a cleaned text \n",
    "    dataframe by using regex, lowercasing, stripping stop words and lemmatizing\n",
    "    \n",
    "    Input: Dataframe with only text column\n",
    "    Output: Dataframe with only cleaned text column\"\"\"\n",
    "    \n",
    "    #using regexp notation to get rid of numbers in reviews\n",
    "    df[col_name] = df[col_name].str.replace(r'([^a-zA-Z\\s]+?)',\" \")\n",
    "\n",
    "    # 1. Create a set of documents.\n",
    "    df[col_name] = df[col_name].apply(lambda x : x.lower())\n",
    "\n",
    "    # 2. Create a set of tokenized documents.\n",
    "    docs_tokenized = [word_tokenize(content) for content in df[col_name].values]\n",
    "    \n",
    "\n",
    "    # 3. Strip out stop words from each tokenized document.\n",
    "\n",
    "    stop = set(stopwords.words('english'))\n",
    "#    new_stopwords = set([\"film\",\"movie\",\"like\",\"feel\",\"time\",\"little\",\"adject\", \"adds\",\n",
    "#                        \"bestloved\",\"agonizingly\",\"bantamweight\"])\n",
    "#    stop.update(new_stopwords)\n",
    "    docs_stop = [[word for word in words if word not in stop] for words in docs_tokenized]\n",
    "\n",
    "    # Stemming / Lemmatization\n",
    "\n",
    "    # 1. Stem using lemmatizer\n",
    "    wordnet = WordNetLemmatizer()\n",
    "    docs_wordnet = [[wordnet.lemmatize(word) for word in words] for words in docs_stop]\n",
    "    print(docs_wordnet[:4])\n",
    "    new_element =[]\n",
    "    for element in docs_wordnet:\n",
    "        test = \" \".join(element)\n",
    "        new_element.append(test) \n",
    "    new_series = pd.Series(new_element)\n",
    "    col = \"text\"\n",
    "    cleaned_df = pd.DataFrame(new_series,columns = [col])\n",
    "    return cleaned_df\n",
    "\n"
   ]
  },
  {
   "cell_type": "code",
   "execution_count": 47,
   "metadata": {},
   "outputs": [
    {
     "name": "stdout",
     "output_type": "stream",
     "text": [
      "[['manakamana', 'answer', 'question', 'yet', 'make', 'point', 'nepal', 'like', 'rest', 'planet', 'picturesque', 'far', 'peaceable', 'kingdom'], ['wilfully', 'offensive', 'powered', 'chest', 'thumping', 'machismo', 'good', 'clean', 'fun'], ['would', 'difficult', 'imagine', 'material', 'wrong', 'spade', 'lost', 'found'], ['despite', 'gusto', 'star', 'brings', 'role', 'hard', 'ride', 'shotgun', 'hector', 'voyage', 'discovery']]\n"
     ]
    },
    {
     "data": {
      "text/html": [
       "<div>\n",
       "<style scoped>\n",
       "    .dataframe tbody tr th:only-of-type {\n",
       "        vertical-align: middle;\n",
       "    }\n",
       "\n",
       "    .dataframe tbody tr th {\n",
       "        vertical-align: top;\n",
       "    }\n",
       "\n",
       "    .dataframe thead th {\n",
       "        text-align: right;\n",
       "    }\n",
       "</style>\n",
       "<table border=\"1\" class=\"dataframe\">\n",
       "  <thead>\n",
       "    <tr style=\"text-align: right;\">\n",
       "      <th></th>\n",
       "      <th>text</th>\n",
       "    </tr>\n",
       "  </thead>\n",
       "  <tbody>\n",
       "    <tr>\n",
       "      <th>0</th>\n",
       "      <td>manakamana answer question yet make point nepa...</td>\n",
       "    </tr>\n",
       "    <tr>\n",
       "      <th>1</th>\n",
       "      <td>wilfully offensive powered chest thumping mach...</td>\n",
       "    </tr>\n",
       "    <tr>\n",
       "      <th>2</th>\n",
       "      <td>would difficult imagine material wrong spade l...</td>\n",
       "    </tr>\n",
       "    <tr>\n",
       "      <th>3</th>\n",
       "      <td>despite gusto star brings role hard ride shotg...</td>\n",
       "    </tr>\n",
       "    <tr>\n",
       "      <th>4</th>\n",
       "      <td>good idea core film buried unsightly pile flat...</td>\n",
       "    </tr>\n",
       "    <tr>\n",
       "      <th>5</th>\n",
       "      <td>gleeson go hallmark channel route damaging int...</td>\n",
       "    </tr>\n",
       "    <tr>\n",
       "      <th>6</th>\n",
       "      <td>height satire dark hell patently absurd surely...</td>\n",
       "    </tr>\n",
       "    <tr>\n",
       "      <th>7</th>\n",
       "      <td>everyone comedian deserves better movie comedian</td>\n",
       "    </tr>\n",
       "    <tr>\n",
       "      <th>8</th>\n",
       "      <td>actor encourages grumpy christian embrace season</td>\n",
       "    </tr>\n",
       "    <tr>\n",
       "      <th>9</th>\n",
       "      <td>slight contained ineffably soulful</td>\n",
       "    </tr>\n",
       "    <tr>\n",
       "      <th>10</th>\n",
       "      <td>bell debut feature address subject humor intel...</td>\n",
       "    </tr>\n",
       "    <tr>\n",
       "      <th>11</th>\n",
       "      <td>except shamelessly irresistibly zingy music sc...</td>\n",
       "    </tr>\n",
       "    <tr>\n",
       "      <th>12</th>\n",
       "      <td>one uninitiated also one people like action th...</td>\n",
       "    </tr>\n",
       "    <tr>\n",
       "      <th>13</th>\n",
       "      <td>son saul employ formal mechanic filmmaking tur...</td>\n",
       "    </tr>\n",
       "    <tr>\n",
       "      <th>14</th>\n",
       "      <td>thrilling fox act backchat filthy funny</td>\n",
       "    </tr>\n",
       "    <tr>\n",
       "      <th>15</th>\n",
       "      <td>hiddleston swinton lovely watch need chew</td>\n",
       "    </tr>\n",
       "    <tr>\n",
       "      <th>16</th>\n",
       "      <td>yossi stronger film predecessor deeply felt le...</td>\n",
       "    </tr>\n",
       "    <tr>\n",
       "      <th>17</th>\n",
       "      <td>feel like sparkle baby puked rainbow colored d...</td>\n",
       "    </tr>\n",
       "    <tr>\n",
       "      <th>18</th>\n",
       "      <td>long unfocused film</td>\n",
       "    </tr>\n",
       "    <tr>\n",
       "      <th>19</th>\n",
       "      <td>kubo two string better immersive absorptive pu...</td>\n",
       "    </tr>\n",
       "    <tr>\n",
       "      <th>20</th>\n",
       "      <td>easy enjoy susceptible sort thing leaf nothing...</td>\n",
       "    </tr>\n",
       "    <tr>\n",
       "      <th>21</th>\n",
       "      <td>extraordinary blast past x men first class go ...</td>\n",
       "    </tr>\n",
       "    <tr>\n",
       "      <th>22</th>\n",
       "      <td>mostly lightweight interesting part movie jami...</td>\n",
       "    </tr>\n",
       "    <tr>\n",
       "      <th>23</th>\n",
       "      <td>drawn per disclaimer period account strange ph...</td>\n",
       "    </tr>\n",
       "    <tr>\n",
       "      <th>24</th>\n",
       "      <td>hone dramatic element emotional effect rather ...</td>\n",
       "    </tr>\n",
       "    <tr>\n",
       "      <th>25</th>\n",
       "      <td>seemed like decent idea fourth final stroll am...</td>\n",
       "    </tr>\n",
       "    <tr>\n",
       "      <th>26</th>\n",
       "      <td>free bird unappealingly staged paced uneven sl...</td>\n",
       "    </tr>\n",
       "    <tr>\n",
       "      <th>27</th>\n",
       "      <td>joyless misanthropic minute worth comedy rate ...</td>\n",
       "    </tr>\n",
       "    <tr>\n",
       "      <th>28</th>\n",
       "      <td>one directed john glen follows number plodding...</td>\n",
       "    </tr>\n",
       "    <tr>\n",
       "      <th>29</th>\n",
       "      <td>movie purely visceral generating adrenaline al...</td>\n",
       "    </tr>\n",
       "    <tr>\n",
       "      <th>...</th>\n",
       "      <td>...</td>\n",
       "    </tr>\n",
       "    <tr>\n",
       "      <th>19970</th>\n",
       "      <td>walter salles haunted apartment thriller dark ...</td>\n",
       "    </tr>\n",
       "    <tr>\n",
       "      <th>19971</th>\n",
       "      <td>like original sequel however catch fire</td>\n",
       "    </tr>\n",
       "    <tr>\n",
       "      <th>19972</th>\n",
       "      <td>general purpose action flick formulaic plot pe...</td>\n",
       "    </tr>\n",
       "    <tr>\n",
       "      <th>19973</th>\n",
       "      <td>pretty bad direct video adaptation nothing</td>\n",
       "    </tr>\n",
       "    <tr>\n",
       "      <th>19974</th>\n",
       "      <td>captain phillips almost feel tailor made green...</td>\n",
       "    </tr>\n",
       "    <tr>\n",
       "      <th>19975</th>\n",
       "      <td>fair franchise never intended appeal anyone si...</td>\n",
       "    </tr>\n",
       "    <tr>\n",
       "      <th>19976</th>\n",
       "      <td>drowning horror trope lacking campy diy lookin...</td>\n",
       "    </tr>\n",
       "    <tr>\n",
       "      <th>19977</th>\n",
       "      <td>stunning encapsulation life effortlessly hitti...</td>\n",
       "    </tr>\n",
       "    <tr>\n",
       "      <th>19978</th>\n",
       "      <td>string excuse get girl back together chit chat...</td>\n",
       "    </tr>\n",
       "    <tr>\n",
       "      <th>19979</th>\n",
       "      <td>crowe directorial debut call tolerance underst...</td>\n",
       "    </tr>\n",
       "    <tr>\n",
       "      <th>19980</th>\n",
       "      <td>fascinating troubling dutiful christine nothin...</td>\n",
       "    </tr>\n",
       "    <tr>\n",
       "      <th>19981</th>\n",
       "      <td>exception buster moon best friend sheep named ...</td>\n",
       "    </tr>\n",
       "    <tr>\n",
       "      <th>19982</th>\n",
       "      <td>another loud overblown marvel misfire</td>\n",
       "    </tr>\n",
       "    <tr>\n",
       "      <th>19983</th>\n",
       "      <td>party concerned maintain grim countenance char...</td>\n",
       "    </tr>\n",
       "    <tr>\n",
       "      <th>19984</th>\n",
       "      <td>passione praise spirit subject also attends di...</td>\n",
       "    </tr>\n",
       "    <tr>\n",
       "      <th>19985</th>\n",
       "      <td>biggest problem gringo far many unnecessary su...</td>\n",
       "    </tr>\n",
       "    <tr>\n",
       "      <th>19986</th>\n",
       "      <td>follows amusing even touching none fully capit...</td>\n",
       "    </tr>\n",
       "    <tr>\n",
       "      <th>19987</th>\n",
       "      <td>three four movie competing attention within ch...</td>\n",
       "    </tr>\n",
       "    <tr>\n",
       "      <th>19988</th>\n",
       "      <td>inside hollywood comedy people whose head rock...</td>\n",
       "    </tr>\n",
       "    <tr>\n",
       "      <th>19989</th>\n",
       "      <td>predictable film worn theme forgettable perfor...</td>\n",
       "    </tr>\n",
       "    <tr>\n",
       "      <th>19990</th>\n",
       "      <td>remember matrix everyone invested movie direct...</td>\n",
       "    </tr>\n",
       "    <tr>\n",
       "      <th>19991</th>\n",
       "      <td>seeing bruce willis movie day damn embarrassing</td>\n",
       "    </tr>\n",
       "    <tr>\n",
       "      <th>19992</th>\n",
       "      <td>x men apocalypse bad enough kill huge money ma...</td>\n",
       "    </tr>\n",
       "    <tr>\n",
       "      <th>19993</th>\n",
       "      <td>yves saint laurent effective job condensing tw...</td>\n",
       "    </tr>\n",
       "    <tr>\n",
       "      <th>19994</th>\n",
       "      <td>director alfonso cuaron brings audience world ...</td>\n",
       "    </tr>\n",
       "    <tr>\n",
       "      <th>19995</th>\n",
       "      <td>padded entertaining scandinavian thriller made...</td>\n",
       "    </tr>\n",
       "    <tr>\n",
       "      <th>19996</th>\n",
       "      <td>expendables much fun</td>\n",
       "    </tr>\n",
       "    <tr>\n",
       "      <th>19997</th>\n",
       "      <td>second half spent drifting lifeboat interminab...</td>\n",
       "    </tr>\n",
       "    <tr>\n",
       "      <th>19998</th>\n",
       "      <td>sleep inducing yet excessively violent delgo h...</td>\n",
       "    </tr>\n",
       "    <tr>\n",
       "      <th>19999</th>\n",
       "      <td>cover difficult ground say leaf trace would li...</td>\n",
       "    </tr>\n",
       "  </tbody>\n",
       "</table>\n",
       "<p>20000 rows × 1 columns</p>\n",
       "</div>"
      ],
      "text/plain": [
       "                                                    text\n",
       "0      manakamana answer question yet make point nepa...\n",
       "1      wilfully offensive powered chest thumping mach...\n",
       "2      would difficult imagine material wrong spade l...\n",
       "3      despite gusto star brings role hard ride shotg...\n",
       "4      good idea core film buried unsightly pile flat...\n",
       "5      gleeson go hallmark channel route damaging int...\n",
       "6      height satire dark hell patently absurd surely...\n",
       "7       everyone comedian deserves better movie comedian\n",
       "8       actor encourages grumpy christian embrace season\n",
       "9                     slight contained ineffably soulful\n",
       "10     bell debut feature address subject humor intel...\n",
       "11     except shamelessly irresistibly zingy music sc...\n",
       "12     one uninitiated also one people like action th...\n",
       "13     son saul employ formal mechanic filmmaking tur...\n",
       "14               thrilling fox act backchat filthy funny\n",
       "15             hiddleston swinton lovely watch need chew\n",
       "16     yossi stronger film predecessor deeply felt le...\n",
       "17     feel like sparkle baby puked rainbow colored d...\n",
       "18                                   long unfocused film\n",
       "19     kubo two string better immersive absorptive pu...\n",
       "20     easy enjoy susceptible sort thing leaf nothing...\n",
       "21     extraordinary blast past x men first class go ...\n",
       "22     mostly lightweight interesting part movie jami...\n",
       "23     drawn per disclaimer period account strange ph...\n",
       "24     hone dramatic element emotional effect rather ...\n",
       "25     seemed like decent idea fourth final stroll am...\n",
       "26     free bird unappealingly staged paced uneven sl...\n",
       "27     joyless misanthropic minute worth comedy rate ...\n",
       "28     one directed john glen follows number plodding...\n",
       "29     movie purely visceral generating adrenaline al...\n",
       "...                                                  ...\n",
       "19970  walter salles haunted apartment thriller dark ...\n",
       "19971            like original sequel however catch fire\n",
       "19972  general purpose action flick formulaic plot pe...\n",
       "19973         pretty bad direct video adaptation nothing\n",
       "19974  captain phillips almost feel tailor made green...\n",
       "19975  fair franchise never intended appeal anyone si...\n",
       "19976  drowning horror trope lacking campy diy lookin...\n",
       "19977  stunning encapsulation life effortlessly hitti...\n",
       "19978  string excuse get girl back together chit chat...\n",
       "19979  crowe directorial debut call tolerance underst...\n",
       "19980  fascinating troubling dutiful christine nothin...\n",
       "19981  exception buster moon best friend sheep named ...\n",
       "19982              another loud overblown marvel misfire\n",
       "19983  party concerned maintain grim countenance char...\n",
       "19984  passione praise spirit subject also attends di...\n",
       "19985  biggest problem gringo far many unnecessary su...\n",
       "19986  follows amusing even touching none fully capit...\n",
       "19987  three four movie competing attention within ch...\n",
       "19988  inside hollywood comedy people whose head rock...\n",
       "19989  predictable film worn theme forgettable perfor...\n",
       "19990  remember matrix everyone invested movie direct...\n",
       "19991    seeing bruce willis movie day damn embarrassing\n",
       "19992  x men apocalypse bad enough kill huge money ma...\n",
       "19993  yves saint laurent effective job condensing tw...\n",
       "19994  director alfonso cuaron brings audience world ...\n",
       "19995  padded entertaining scandinavian thriller made...\n",
       "19996                               expendables much fun\n",
       "19997  second half spent drifting lifeboat interminab...\n",
       "19998  sleep inducing yet excessively violent delgo h...\n",
       "19999  cover difficult ground say leaf trace would li...\n",
       "\n",
       "[20000 rows x 1 columns]"
      ]
     },
     "execution_count": 47,
     "metadata": {},
     "output_type": "execute_result"
    }
   ],
   "source": [
    "col= \"Review\"\n",
    "cleaned_df = cleaned_dframe(df_quick.copy(), col)\n",
    "cleaned_df"
   ]
  },
  {
   "cell_type": "code",
   "execution_count": 48,
   "metadata": {},
   "outputs": [],
   "source": [
    "def text2num(cleaned_df, col= None, train=True, cv=None, tfidf=None):\n",
    "    \"\"\"Purpose: receive a df and a column for text and turn text into CountVectorized Data and tfidf\n",
    "    data\n",
    "    \n",
    "    Input: DataFrame with string column to be numerically vectorized\n",
    "    Output: A doc word count matrix and a tfidf matrix as well\"\"\"\n",
    "    \n",
    "    str_data = cleaned_df[col].values\n",
    "    if train == True:\n",
    "        X_counts = cv.fit_transform(str_data)\n",
    "        X_counts_tfidf_arr = tfidf.fit_transform(X_counts).toarray()\n",
    "    else:\n",
    "        X_counts = cv.transform(str_data)\n",
    "        X_counts_tfidf_arr = tfidf.transform(X_counts).toarray()\n",
    "    return X_counts, X_counts_tfidf_arr\n",
    "    \n",
    "    "
   ]
  },
  {
   "cell_type": "code",
   "execution_count": 49,
   "metadata": {},
   "outputs": [],
   "source": [
    "cv = CountVectorizer(lowercase=True, tokenizer=None, strip_accents= \"ascii\", stop_words=\"english\",\n",
    "                             analyzer='word', max_df=1.0, min_df=2,ngram_range=(1,1),\n",
    "                             max_features=3000)\n",
    "tfidf = TfidfTransformer(use_idf=True)\n"
   ]
  },
  {
   "cell_type": "code",
   "execution_count": 50,
   "metadata": {},
   "outputs": [
    {
     "data": {
      "text/plain": [
       "(<20000x3000 sparse matrix of type '<class 'numpy.int64'>'\n",
       " \twith 157742 stored elements in Compressed Sparse Row format>,\n",
       " array([[0., 0., 0., ..., 0., 0., 0.],\n",
       "        [0., 0., 0., ..., 0., 0., 0.],\n",
       "        [0., 0., 0., ..., 0., 0., 0.],\n",
       "        ...,\n",
       "        [0., 0., 0., ..., 0., 0., 0.],\n",
       "        [0., 0., 0., ..., 0., 0., 0.],\n",
       "        [0., 0., 0., ..., 0., 0., 0.]]))"
      ]
     },
     "execution_count": 50,
     "metadata": {},
     "output_type": "execute_result"
    }
   ],
   "source": [
    "col2= \"text\"\n",
    "train = True\n",
    "X_counts, X_counts_tfidf_arr = text2num(cleaned_df.copy(), col2, train, cv, tfidf)\n",
    "X_counts, X_counts_tfidf_arr"
   ]
  },
  {
   "cell_type": "code",
   "execution_count": 51,
   "metadata": {},
   "outputs": [
    {
     "name": "stdout",
     "output_type": "stream",
     "text": [
      "[['manakamana', 'answer', 'question', 'yet', 'make', 'point', 'nepal', 'like', 'rest', 'planet', 'picturesque', 'far', 'peaceable', 'kingdom'], ['wilfully', 'offensive', 'powered', 'chest', 'thumping', 'machismo', 'good', 'clean', 'fun'], ['would', 'difficult', 'imagine', 'material', 'wrong', 'spade', 'lost', 'found'], ['despite', 'gusto', 'star', 'brings', 'role', 'hard', 'ride', 'shotgun', 'hector', 'voyage', 'discovery']]\n",
      "[['downsizing', 'dare', 'ask', 'human', 'ready', 'make', 'sacrifice', 'necessary', 'survival', 'preservation', 'specie', 'line'], ['film', 'even', 'perhaps', 'slow', 'pace', 'skip', 'incident', 'incident', 'precisely', 'hanging', 'movement', 'though', 'action', 'thriller', 'kaufman', 'script', 'may', 'sort', 'wonderwork'], ['problem', 'stray', 'ever', 'connect', 'audience', 'exception', 'murphy', 'back', 'story'], ['alice', 'wonderland', 'reminds', 'sleepy', 'hollow', 'empty', 'faux', 'atmospheric', 'without', 'soul']]\n",
      "[['end', 'film', 'stomach', 'hurting', 'laughter', 'butt', 'sore', 'pop', 'culture', 'product', 'placement', 'spanking', 'enduring'], ['notch', 'two', 'level', 'casino', 'royale', 'bond', 'chapter', 'darker', 'revenge', 'tale', 'barely', 'delivers', 'basic', 'good', 'though', 'daniel', 'craig', 'best', 'element', 'package'], ['taken', 'terence', 'davy', 'year', 'bring', 'sunset', 'song', 'screen', 'worth'], ['film', 'morose', 'sentimentality', 'sidestep', 'ludicrousness', 'also', 'dramatic']]\n"
     ]
    }
   ],
   "source": [
    "df_train = df[:20000]\n",
    "df_test = df[20000:25000]\n",
    "y_train = df_train.Freshness\n",
    "y_test = df_test.Freshness\n",
    "df_train_clean = cleaned_dframe(df_train.copy(),\"Review\")\n",
    "df_test_clean = cleaned_dframe(df_test.copy(),\"Review\")\n",
    "X_counts_train, X_counts_tfidf_arr_train = text2num(df_train_clean.copy(),\"text\",True,cv,tfidf)\n",
    "X_counts_test, X_counts_tfidf_arr_test = text2num(df_test_clean.copy(),\"text\",False,cv,tfidf)\n",
    "X_counts_test,X_counts_tfidf_arr_test\n",
    "df_holdout = df[37500:45000]\n",
    "y_holdout = df_holdout.Freshness\n",
    "df_holdout_clean = cleaned_dframe(df_holdout.copy(),\"Review\")\n",
    "X_counts_holdout, X_counts_tfidf_arr_holdout = text2num(df_holdout_clean.copy(),\"text\",False,cv,tfidf)"
   ]
  },
  {
   "cell_type": "code",
   "execution_count": 52,
   "metadata": {},
   "outputs": [],
   "source": [
    "nb_model = MultinomialNB(alpha=1.0, fit_prior=True, class_prior=None)"
   ]
  },
  {
   "cell_type": "code",
   "execution_count": 53,
   "metadata": {},
   "outputs": [
    {
     "data": {
      "text/plain": [
       "(0.7811, 0.7324, 0.7276)"
      ]
     },
     "execution_count": 53,
     "metadata": {},
     "output_type": "execute_result"
    }
   ],
   "source": [
    "nb_model.fit(X_counts_tfidf_arr_train, y_train)\n",
    "nb_model.score(X_counts_tfidf_arr_train,y_train), nb_model.score(X_counts_tfidf_arr_test,y_test),nb_model.score(X_counts_tfidf_arr_holdout,y_holdout)\n",
    "#nb_model.predict_proba(X_counts_tfidf_arr_test)"
   ]
  },
  {
   "cell_type": "code",
   "execution_count": 54,
   "metadata": {},
   "outputs": [
    {
     "data": {
      "text/plain": [
       "pandas.core.series.Series"
      ]
     },
     "execution_count": 54,
     "metadata": {},
     "output_type": "execute_result"
    }
   ],
   "source": [
    "y_pred = nb_model.predict(X_counts_tfidf_arr_test)\n",
    "type(y_pred)\n",
    "#y_test = y_test.to_numpy()\n",
    "type(y_test)"
   ]
  },
  {
   "cell_type": "code",
   "execution_count": 93,
   "metadata": {},
   "outputs": [
    {
     "name": "stdout",
     "output_type": "stream",
     "text": [
      "              precision    recall  f1-score   support\n",
      "\n",
      "     class 0       0.73      0.73      0.73      2466\n",
      "     class 1       0.74      0.73      0.74      2534\n",
      "\n",
      "    accuracy                           0.73      5000\n",
      "   macro avg       0.73      0.73      0.73      5000\n",
      "weighted avg       0.73      0.73      0.73      5000\n",
      "\n"
     ]
    }
   ],
   "source": [
    "from sklearn.metrics import classification_report\n",
    "\n",
    "target_names = ['class 0', 'class 1']\n",
    "print(classification_report(y_test, y_pred, target_names=target_names))"
   ]
  },
  {
   "cell_type": "code",
   "execution_count": 55,
   "metadata": {},
   "outputs": [
    {
     "data": {
      "text/plain": [
       "array([[1805,  661],\n",
       "       [ 677, 1857]])"
      ]
     },
     "execution_count": 55,
     "metadata": {},
     "output_type": "execute_result"
    }
   ],
   "source": [
    "confusion_matrix(y_test,y_pred)"
   ]
  },
  {
   "cell_type": "code",
   "execution_count": 62,
   "metadata": {},
   "outputs": [
    {
     "data": {
      "text/html": [
       "<div>\n",
       "<style scoped>\n",
       "    .dataframe tbody tr th:only-of-type {\n",
       "        vertical-align: middle;\n",
       "    }\n",
       "\n",
       "    .dataframe tbody tr th {\n",
       "        vertical-align: top;\n",
       "    }\n",
       "\n",
       "    .dataframe thead th {\n",
       "        text-align: right;\n",
       "    }\n",
       "</style>\n",
       "<table border=\"1\" class=\"dataframe\">\n",
       "  <thead>\n",
       "    <tr style=\"text-align: right;\">\n",
       "      <th></th>\n",
       "      <th>Freshness</th>\n",
       "      <th>Review</th>\n",
       "    </tr>\n",
       "  </thead>\n",
       "  <tbody>\n",
       "    <tr>\n",
       "      <th>20012</th>\n",
       "      <td>0</td>\n",
       "      <td>In spite of his low-key ambitions, debut film...</td>\n",
       "    </tr>\n",
       "    <tr>\n",
       "      <th>20014</th>\n",
       "      <td>0</td>\n",
       "      <td>A modern day noir, Josie is a film which only...</td>\n",
       "    </tr>\n",
       "    <tr>\n",
       "      <th>20015</th>\n",
       "      <td>0</td>\n",
       "      <td>Bungles who Spider-Man is, where he's coming ...</td>\n",
       "    </tr>\n",
       "    <tr>\n",
       "      <th>20030</th>\n",
       "      <td>0</td>\n",
       "      <td>Thomas Harris is now hoodwinked by his creati...</td>\n",
       "    </tr>\n",
       "    <tr>\n",
       "      <th>20033</th>\n",
       "      <td>0</td>\n",
       "      <td>A gothic and, for better or worse, poetic mem...</td>\n",
       "    </tr>\n",
       "  </tbody>\n",
       "</table>\n",
       "</div>"
      ],
      "text/plain": [
       "       Freshness                                             Review\n",
       "20012          0   In spite of his low-key ambitions, debut film...\n",
       "20014          0   A modern day noir, Josie is a film which only...\n",
       "20015          0   Bungles who Spider-Man is, where he's coming ...\n",
       "20030          0   Thomas Harris is now hoodwinked by his creati...\n",
       "20033          0   A gothic and, for better or worse, poetic mem..."
      ]
     },
     "execution_count": 62,
     "metadata": {},
     "output_type": "execute_result"
    }
   ],
   "source": [
    "false_positives = df_test[y_pred > y_test]\n",
    "false_positives.head()\n"
   ]
  },
  {
   "cell_type": "code",
   "execution_count": 67,
   "metadata": {
    "scrolled": false
   },
   "outputs": [
    {
     "data": {
      "text/plain": [
       "' A gothic and, for better or worse, poetic memoir about a young girl and her family of Creole aristocrats.'"
      ]
     },
     "execution_count": 67,
     "metadata": {},
     "output_type": "execute_result"
    }
   ],
   "source": [
    "false_positives.Review[20033]"
   ]
  },
  {
   "cell_type": "code",
   "execution_count": 77,
   "metadata": {},
   "outputs": [
    {
     "data": {
      "text/plain": [
       "' A modern day noir, Josie is a film which only registers because of the performances from leads Sophie Turner and Dylan Mc Dermott. '"
      ]
     },
     "execution_count": 77,
     "metadata": {},
     "output_type": "execute_result"
    }
   ],
   "source": [
    "false_positives.Review[20014]"
   ]
  },
  {
   "cell_type": "code",
   "execution_count": 69,
   "metadata": {},
   "outputs": [
    {
     "data": {
      "text/html": [
       "<div>\n",
       "<style scoped>\n",
       "    .dataframe tbody tr th:only-of-type {\n",
       "        vertical-align: middle;\n",
       "    }\n",
       "\n",
       "    .dataframe tbody tr th {\n",
       "        vertical-align: top;\n",
       "    }\n",
       "\n",
       "    .dataframe thead th {\n",
       "        text-align: right;\n",
       "    }\n",
       "</style>\n",
       "<table border=\"1\" class=\"dataframe\">\n",
       "  <thead>\n",
       "    <tr style=\"text-align: right;\">\n",
       "      <th></th>\n",
       "      <th>Freshness</th>\n",
       "      <th>Review</th>\n",
       "    </tr>\n",
       "  </thead>\n",
       "  <tbody>\n",
       "    <tr>\n",
       "      <th>20001</th>\n",
       "      <td>1</td>\n",
       "      <td>While the film has an even and perhaps slow p...</td>\n",
       "    </tr>\n",
       "    <tr>\n",
       "      <th>20004</th>\n",
       "      <td>1</td>\n",
       "      <td>Believe in forgiveness comes dropping slow on...</td>\n",
       "    </tr>\n",
       "    <tr>\n",
       "      <th>20009</th>\n",
       "      <td>1</td>\n",
       "      <td>I expect Jessica Rothe just stenciled her nam...</td>\n",
       "    </tr>\n",
       "    <tr>\n",
       "      <th>20024</th>\n",
       "      <td>1</td>\n",
       "      <td>Not a happy experience, and there are times w...</td>\n",
       "    </tr>\n",
       "    <tr>\n",
       "      <th>20025</th>\n",
       "      <td>1</td>\n",
       "      <td>The material is flawed, to be sure, but the s...</td>\n",
       "    </tr>\n",
       "  </tbody>\n",
       "</table>\n",
       "</div>"
      ],
      "text/plain": [
       "       Freshness                                             Review\n",
       "20001          1   While the film has an even and perhaps slow p...\n",
       "20004          1   Believe in forgiveness comes dropping slow on...\n",
       "20009          1   I expect Jessica Rothe just stenciled her nam...\n",
       "20024          1   Not a happy experience, and there are times w...\n",
       "20025          1   The material is flawed, to be sure, but the s..."
      ]
     },
     "execution_count": 69,
     "metadata": {},
     "output_type": "execute_result"
    }
   ],
   "source": [
    "false_negatives = df_test[y_pred < y_test]\n",
    "false_negatives.head()"
   ]
  },
  {
   "cell_type": "code",
   "execution_count": 75,
   "metadata": {},
   "outputs": [
    {
     "data": {
      "text/plain": [
       "\" Believe in forgiveness comes dropping slow on the characters, in the form of a snowfall that's possibly redemptive, but also cold.\""
      ]
     },
     "execution_count": 75,
     "metadata": {},
     "output_type": "execute_result"
    }
   ],
   "source": [
    "false_negatives.Review[20004]"
   ]
  },
  {
   "cell_type": "code",
   "execution_count": 76,
   "metadata": {},
   "outputs": [
    {
     "data": {
      "text/plain": [
       "' The material is flawed, to be sure, but the story is less predictable than you would guess and it exudes an easy-going wit.'"
      ]
     },
     "execution_count": 76,
     "metadata": {},
     "output_type": "execute_result"
    }
   ],
   "source": [
    "false_negatives.Review[20025]"
   ]
  },
  {
   "cell_type": "code",
   "execution_count": 86,
   "metadata": {},
   "outputs": [
    {
     "data": {
      "text/plain": [
       "0.736"
      ]
     },
     "execution_count": 86,
     "metadata": {},
     "output_type": "execute_result"
    }
   ],
   "source": [
    "# Problem is that i changed the stop words due to misclassifications in my \n",
    "# test set.  This could be data leakage.  Let me check on a holdout set.\n",
    "\n",
    "df_holdout2 = df[30000:35000]\n",
    "y_holdout2 = df_holdout2.Freshness\n",
    "df_holdout_clean2 = cleaned_dframe(df_holdout2.copy(),\"Review\")\n",
    "X_counts_holdout2, X_counts_tfidf_arr_holdout2 = text2num(df_holdout_clean2.copy(),\"text\",False,cv,tfidf)\n",
    "nb_model.score(X_counts_tfidf_arr_holdout2,y_holdout2)\n",
    "\n",
    "#It is unfortunately confirmed.  I do not have enough features or data in my\n",
    "#model to get useful information.  Let's use gridsearch to arrive at a good\n",
    "#small model. Let's start by going back and taking the new stop words out of \n",
    "#stop words."
   ]
  },
  {
   "cell_type": "code",
   "execution_count": 87,
   "metadata": {},
   "outputs": [
    {
     "data": {
      "text/plain": [
       "(0.62505, 0.6212)"
      ]
     },
     "execution_count": 87,
     "metadata": {},
     "output_type": "execute_result"
    }
   ],
   "source": [
    "# check out small test case on random forest classifier\n",
    "clf = RandomForestClassifier(n_estimators=1000, max_features =600, max_depth=5,\n",
    "                              random_state=0, min_samples_leaf=2)\n",
    "clf.fit(X_counts_tfidf_arr_train, y_train)  \n",
    "#print(clf.feature_importances_)\n",
    "clf.score(X_counts_tfidf_arr_train,y_train), clf.score(X_counts_tfidf_arr_test,y_test)\n"
   ]
  },
  {
   "cell_type": "code",
   "execution_count": 42,
   "metadata": {},
   "outputs": [],
   "source": [
    "# This is really weird.  My test score varies from .72 down to .5 based on\n",
    "# the sample chose.  I suspect that I do not have enough data rows or features."
   ]
  },
  {
   "cell_type": "code",
   "execution_count": 43,
   "metadata": {},
   "outputs": [],
   "source": [
    "# parameter_candidates = [\n",
    "#   {'C': [1, 10, 100, 1000], 'kernel': ['linear']},\n",
    "#   {'C': [1, 10, 100, 1000], 'gamma': [0.001, 0.0001], 'kernel': ['rbf']},\n",
    "# ]\n",
    "parameter_candidates = [{\"n_estimators\":[10,20,30], \"max_depth\":[2,3,6],\n",
    "                        \"min_samples_leaf\":[1,2,5]}]"
   ]
  },
  {
   "cell_type": "code",
   "execution_count": 44,
   "metadata": {},
   "outputs": [
    {
     "data": {
      "text/plain": [
       "GridSearchCV(cv=5, error_score='raise-deprecating',\n",
       "             estimator=RandomForestClassifier(bootstrap=True, class_weight=None,\n",
       "                                              criterion='gini', max_depth=5,\n",
       "                                              max_features='auto',\n",
       "                                              max_leaf_nodes=None,\n",
       "                                              min_impurity_decrease=0.0,\n",
       "                                              min_impurity_split=None,\n",
       "                                              min_samples_leaf=2,\n",
       "                                              min_samples_split=2,\n",
       "                                              min_weight_fraction_leaf=0.0,\n",
       "                                              n_estimators=100, n_jobs=None,\n",
       "                                              oob_score=False, random_state=0,\n",
       "                                              verbose=0, warm_start=False),\n",
       "             iid='warn', n_jobs=-1,\n",
       "             param_grid=[{'max_depth': [2, 3, 6], 'min_samples_leaf': [1, 2, 5],\n",
       "                          'n_estimators': [10, 20, 30]}],\n",
       "             pre_dispatch='2*n_jobs', refit=True, return_train_score=False,\n",
       "             scoring=None, verbose=0)"
      ]
     },
     "execution_count": 44,
     "metadata": {},
     "output_type": "execute_result"
    }
   ],
   "source": [
    "# Create a classifier object with the classifier and parameter candidates\n",
    "gs = GridSearchCV(estimator=clf, param_grid=parameter_candidates, cv=5, n_jobs=-1)\n",
    "\n",
    "# Train the classifier on data1's feature and target data\n",
    "gs.fit(X_counts_tfidf_arr_train, y_train) "
   ]
  },
  {
   "cell_type": "code",
   "execution_count": 45,
   "metadata": {},
   "outputs": [
    {
     "name": "stdout",
     "output_type": "stream",
     "text": [
      "Best score for data1: 0.60776\n"
     ]
    }
   ],
   "source": [
    "# View the accuracy score\n",
    "print('Best score for data1:', gs.best_score_)"
   ]
  },
  {
   "cell_type": "code",
   "execution_count": 46,
   "metadata": {},
   "outputs": [
    {
     "name": "stdout",
     "output_type": "stream",
     "text": [
      "Best n_estimators: 30\n",
      "Best max_depth: 6\n",
      "Best min_samples_leaf: 5\n"
     ]
    }
   ],
   "source": [
    "# View the best parameters for the model found using grid search\n",
    "print('Best n_estimators:',gs.best_estimator_.n_estimators) \n",
    "print('Best max_depth:',gs.best_estimator_.max_depth)\n",
    "print('Best min_samples_leaf:',gs.best_estimator_.min_samples_leaf)"
   ]
  },
  {
   "cell_type": "code",
   "execution_count": 17,
   "metadata": {},
   "outputs": [
    {
     "data": {
      "text/plain": [
       "0.79856"
      ]
     },
     "execution_count": 17,
     "metadata": {},
     "output_type": "execute_result"
    }
   ],
   "source": [
    "logreg = LogisticRegression(random_state=0, solver='lbfgs',tol=.001,C=.25,max_iter=100,\n",
    "                          multi_class='multinomial').fit(X_counts_tfidf_arr_train, y_train)\n",
    "logreg.score(X_counts_tfidf_arr_train, y_train)"
   ]
  },
  {
   "cell_type": "code",
   "execution_count": 18,
   "metadata": {},
   "outputs": [
    {
     "data": {
      "text/plain": [
       "0.698"
      ]
     },
     "execution_count": 18,
     "metadata": {},
     "output_type": "execute_result"
    }
   ],
   "source": [
    "logreg.score(X_counts_tfidf_arr_test,y_test)"
   ]
  },
  {
   "cell_type": "code",
   "execution_count": 61,
   "metadata": {},
   "outputs": [
    {
     "data": {
      "text/plain": [
       "(array([[-0.3624381 ,  0.54352684,  0.61061522, ..., -0.1365129 ,\n",
       "          0.47566446, -0.16723401]]), array([-0.15741201]))"
      ]
     },
     "execution_count": 61,
     "metadata": {},
     "output_type": "execute_result"
    }
   ],
   "source": [
    "logreg.coef_, logreg.intercept_"
   ]
  },
  {
   "cell_type": "code",
   "execution_count": 62,
   "metadata": {},
   "outputs": [
    {
     "data": {
      "text/plain": [
       "array([[0.84394163, 0.15605837],\n",
       "       [0.83333001, 0.16666999],\n",
       "       [0.77766381, 0.22233619],\n",
       "       ...,\n",
       "       [0.23025242, 0.76974758],\n",
       "       [0.09992779, 0.90007221],\n",
       "       [0.19205354, 0.80794646]])"
      ]
     },
     "execution_count": 62,
     "metadata": {},
     "output_type": "execute_result"
    }
   ],
   "source": [
    "logreg.predict_proba(X_counts_tfidf_arr_test)"
   ]
  },
  {
   "cell_type": "code",
   "execution_count": 19,
   "metadata": {},
   "outputs": [
    {
     "data": {
      "text/plain": [
       "array([[891, 343],\n",
       "       [412, 854]])"
      ]
     },
     "execution_count": 19,
     "metadata": {},
     "output_type": "execute_result"
    }
   ],
   "source": [
    "confusion_matrix(y_test,logreg.predict(X_counts_tfidf_arr_test))"
   ]
  },
  {
   "cell_type": "code",
   "execution_count": 97,
   "metadata": {},
   "outputs": [],
   "source": [
    "parameter_candidates = [{\"tol\":[.01,.001,.0001], \"max_iter\":[100,500,1000],\n",
    "                        \"C\":[.5,1,2]}]"
   ]
  },
  {
   "cell_type": "code",
   "execution_count": 98,
   "metadata": {},
   "outputs": [
    {
     "data": {
      "text/plain": [
       "GridSearchCV(cv=5, error_score='raise-deprecating',\n",
       "             estimator=LogisticRegression(C=0.7, class_weight=None, dual=False,\n",
       "                                          fit_intercept=True,\n",
       "                                          intercept_scaling=1, l1_ratio=None,\n",
       "                                          max_iter=100,\n",
       "                                          multi_class='multinomial',\n",
       "                                          n_jobs=None, penalty='l2',\n",
       "                                          random_state=0, solver='lbfgs',\n",
       "                                          tol=0.01, verbose=0,\n",
       "                                          warm_start=False),\n",
       "             iid='warn', n_jobs=-1,\n",
       "             param_grid=[{'C': [0.5, 1, 2], 'max_iter': [100, 500, 1000],\n",
       "                          'tol': [0.01, 0.001, 0.0001]}],\n",
       "             pre_dispatch='2*n_jobs', refit=True, return_train_score=False,\n",
       "             scoring=None, verbose=0)"
      ]
     },
     "execution_count": 98,
     "metadata": {},
     "output_type": "execute_result"
    }
   ],
   "source": [
    "# Create a classifier object with the classifier and parameter candidates\n",
    "gs = GridSearchCV(estimator=logreg, param_grid=parameter_candidates, cv=5, n_jobs=-1)\n",
    "\n",
    "# Train the classifier on data1's feature and target data\n",
    "gs.fit(X_counts_tfidf_arr_train, y_train) "
   ]
  },
  {
   "cell_type": "code",
   "execution_count": 99,
   "metadata": {},
   "outputs": [
    {
     "name": "stdout",
     "output_type": "stream",
     "text": [
      "Best score for data1: 0.70584\n"
     ]
    }
   ],
   "source": [
    "# View the accuracy score\n",
    "print('Best score for data1:', gs.best_score_)"
   ]
  },
  {
   "cell_type": "code",
   "execution_count": 100,
   "metadata": {},
   "outputs": [
    {
     "name": "stdout",
     "output_type": "stream",
     "text": [
      "Best tol: 0.001\n",
      "Best max_iter: 100\n",
      "Best C: 0.5\n"
     ]
    }
   ],
   "source": [
    "# View the best parameters for the model found using grid search\n",
    "print('Best tol:',gs.best_estimator_.tol) \n",
    "print('Best max_iter:',gs.best_estimator_.max_iter)\n",
    "print('Best C:',gs.best_estimator_.C)"
   ]
  },
  {
   "cell_type": "code",
   "execution_count": 92,
   "metadata": {},
   "outputs": [
    {
     "data": {
      "image/png": "[encoded data removed]",
      "text/plain": [
       "<Figure size 648x432 with 1 Axes>"
      ]
     },
     "metadata": {},
     "output_type": "display_data"
    }
   ],
   "source": [
    "\n",
    "prob = [.658,.704,.74,.774,.78]\n",
    "x = [5000,10000,20000,100000,200000]\n",
    "fig, ax = plt.subplots(figsize = (9,6))\n",
    "ax = plt.plot(x,prob,'ko--', linewidth=2, markersize=12)\n",
    "plt.xlabel(\"Number of Rows of Training Data\", fontsize =14, fontweight=\"bold\")\n",
    "plt.ylabel(\"Accuracy on Test Data Set\", fontsize = 14, fontweight=\"bold\")\n",
    "#plt.title(\"Test Accuracy vs Training Data Size\")\n",
    "plt.tight_layout(pad=0.4, w_pad=0.5, h_pad=1.0)\n",
    "plt.savefig(\"images/accuracy2.png\")\n",
    "plt.show()\n"
   ]
  },
  {
   "cell_type": "code",
   "execution_count": null,
   "metadata": {},
   "outputs": [],
   "source": []
  }
 ],
 "metadata": {
  "kernelspec": {
   "display_name": "Python 3",
   "language": "python",
   "name": "python3"
  },
  "language_info": {
   "codemirror_mode": {
    "name": "ipython",
    "version": 3
   },
   "file_extension": ".py",
   "mimetype": "text/x-python",
   "name": "python",
   "nbconvert_exporter": "python",
   "pygments_lexer": "ipython3",
   "version": "3.7.1"
  }
 },
 "nbformat": 4,
 "nbformat_minor": 2
}
